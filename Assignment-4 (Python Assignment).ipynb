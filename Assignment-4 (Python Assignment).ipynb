{
 "cells": [
  {
   "cell_type": "markdown",
   "id": "bd37b9ac-049f-4bee-b277-0d405f89e9b2",
   "metadata": {},
   "source": [
    "## Assignment - 4 (Python Assignment)"
   ]
  },
  {
   "cell_type": "markdown",
   "id": "516fb475-f2cf-4131-9298-ccd6a6c2fec6",
   "metadata": {},
   "source": [
    "Q1. Create a python program to sort the given list of tuples based on integer value using a\n",
    "lambda function.  \n",
    "[('Sachin Tendulkar', 34357), ('Ricky Ponting', 27483), ('Jack Kallis', 25534), ('Virat Kohli', 24936)]"
   ]
  },
  {
   "cell_type": "code",
   "execution_count": 15,
   "id": "d82dafd3-d020-47eb-bc5f-3568a8fbf88e",
   "metadata": {},
   "outputs": [
    {
     "name": "stdout",
     "output_type": "stream",
     "text": [
      "[('Virat Kohli', 24936), ('Jack Kallis', 25534), ('Ricky Ponting', 27483), ('Sachin Tendulkar', 34357)]\n"
     ]
    }
   ],
   "source": [
    "list_tup = [('Sachin Tendulkar', 34357), ('Ricky Ponting', 27483), ('Jack Kallis', 25534), ('Virat Kohli', 24936)]\n",
    "list_tup.sort(key = lambda x : x[1])\n",
    "print(list_tup)"
   ]
  },
  {
   "cell_type": "markdown",
   "id": "7aca8762-8582-4201-9c55-d83954f6a3cb",
   "metadata": {},
   "source": [
    "Q2. Write a Python Program to find the squares of all the numbers in the given list of integers using\n",
    "lambda and map functions.  \n",
    "[1, 2, 3, 4, 5, 6, 7, 8, 9, 10]"
   ]
  },
  {
   "cell_type": "code",
   "execution_count": 2,
   "id": "14c819b9-256d-4ca3-b5c5-f7f104e3941e",
   "metadata": {},
   "outputs": [
    {
     "name": "stdout",
     "output_type": "stream",
     "text": [
      "[1, 4, 9, 16, 25, 36, 49, 64, 81, 100]\n"
     ]
    }
   ],
   "source": [
    "list_num = [1, 2, 3, 4, 5, 6, 7, 8, 9, 10]\n",
    "list_sqr = list(map(lambda x : x**2, list_num))\n",
    "print(list_sqr)"
   ]
  },
  {
   "cell_type": "markdown",
   "id": "84f69dbf-8eaf-4e8f-b3ed-4707659e0e93",
   "metadata": {},
   "source": [
    "Q3. Write a python program to convert the given list of integers into a tuple of strings. Use map and\n",
    "lambda functions   \n",
    "Given String: [1, 2, 3, 4, 5, 6, 7, 8, 9, 10]   \n",
    "Expected output: ('1', '2', '3', '4', '5', '6', '7', '8', '9', '10')"
   ]
  },
  {
   "cell_type": "code",
   "execution_count": 3,
   "id": "2e92b2f0-804e-4c03-9283-d8faabcc217f",
   "metadata": {},
   "outputs": [
    {
     "name": "stdout",
     "output_type": "stream",
     "text": [
      "('1', '2', '3', '4', '5', '6', '7', '8', '9', '10')\n"
     ]
    }
   ],
   "source": [
    "list_int = [1, 2, 3, 4, 5, 6, 7, 8, 9, 10] \n",
    "tup_str = tuple(map(lambda x : str(x), list_int))\n",
    "print(tup_str)"
   ]
  },
  {
   "cell_type": "markdown",
   "id": "1cf3076a-e89b-46e9-9839-2be9778eafb4",
   "metadata": {},
   "source": [
    "Q4. Write a python program using reduce function to compute the product of a list containing numbers\n",
    "from 1 to 25."
   ]
  },
  {
   "cell_type": "code",
   "execution_count": 10,
   "id": "90d441c4-8de9-462c-87d5-c6ae065a3b6b",
   "metadata": {},
   "outputs": [
    {
     "name": "stdout",
     "output_type": "stream",
     "text": [
      "[1, 2, 3, 4, 5, 6, 7, 8, 9, 10, 11, 12, 13, 14, 15, 16, 17, 18, 19, 20, 21, 22, 23, 24, 25]\n",
      "15511210043330985984000000\n"
     ]
    }
   ],
   "source": [
    "import functools\n",
    "lst1 = []\n",
    "for i in range(1,26):\n",
    "    lst1.append(i)\n",
    "print(lst1)\n",
    "final_value = functools.reduce(lambda x,y : x*y, lst1)\n",
    "print(final_value)"
   ]
  },
  {
   "cell_type": "markdown",
   "id": "78c2e3b3-1e18-4056-984a-12bd940614c3",
   "metadata": {},
   "source": [
    "Q5. Write a python program to filter the numbers in a given list that are divisible by 2 and 3 using the\n",
    "filter function.  \n",
    "[2, 3, 6, 9, 27, 60, 90, 120, 55, 46]"
   ]
  },
  {
   "cell_type": "code",
   "execution_count": 2,
   "id": "8eea661e-509c-434f-8ee7-c247af130d87",
   "metadata": {},
   "outputs": [
    {
     "name": "stdout",
     "output_type": "stream",
     "text": [
      "[6, 60, 90, 120]\n"
     ]
    }
   ],
   "source": [
    "lst2 = [2, 3, 6, 9, 27, 60, 90, 120, 55, 46]\n",
    "lst_filter = list(filter(lambda x : x%2 == 0 and x%3 == 0, lst2))\n",
    "print(lst_filter)"
   ]
  },
  {
   "cell_type": "markdown",
   "id": "f200d6ed-6c54-4691-b53d-7b405f118494",
   "metadata": {},
   "source": [
    "Q6. Write a python program to find palindromes in the given list of strings using lambda and filter\n",
    "function.   \n",
    "['python', 'php', 'aba', 'radar', 'level']"
   ]
  },
  {
   "cell_type": "code",
   "execution_count": 3,
   "id": "d4437a7b-ed18-4e26-ba50-7c232baf3171",
   "metadata": {},
   "outputs": [
    {
     "name": "stdout",
     "output_type": "stream",
     "text": [
      "['php', 'aba', 'radar', 'level']\n"
     ]
    }
   ],
   "source": [
    "lst3 = ['python', 'php', 'aba', 'radar', 'level']\n",
    "lst_palin = list(filter(lambda x : x == x[::-1], lst3))\n",
    "print(lst_palin)"
   ]
  },
  {
   "cell_type": "code",
   "execution_count": null,
   "id": "f2c2b1a5-b949-45a5-acbd-5ef8d51a0e28",
   "metadata": {},
   "outputs": [],
   "source": []
  }
 ],
 "metadata": {
  "kernelspec": {
   "display_name": "Python 3 (ipykernel)",
   "language": "python",
   "name": "python3"
  },
  "language_info": {
   "codemirror_mode": {
    "name": "ipython",
    "version": 3
   },
   "file_extension": ".py",
   "mimetype": "text/x-python",
   "name": "python",
   "nbconvert_exporter": "python",
   "pygments_lexer": "ipython3",
   "version": "3.10.8"
  }
 },
 "nbformat": 4,
 "nbformat_minor": 5
}
