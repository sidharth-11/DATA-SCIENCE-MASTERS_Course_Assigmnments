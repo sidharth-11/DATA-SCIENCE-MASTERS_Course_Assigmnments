{
 "cells": [
  {
   "cell_type": "markdown",
   "id": "f29f2f7c-7f27-457d-abf7-4fff8a40f6c6",
   "metadata": {},
   "source": [
    "## ASSIGNMENT - 5 (OOPS - 1)"
   ]
  },
  {
   "cell_type": "markdown",
   "id": "7aee4ad8-3cdc-4ba3-9eb1-636970bb4674",
   "metadata": {},
   "source": [
    "Q1. Explain Class and Object with respect to Object-Oriented Programming. Give a suitable example."
   ]
  },
  {
   "cell_type": "markdown",
   "id": "0bff9c2a-4032-4c5f-9fe9-9ec95695dd09",
   "metadata": {},
   "source": [
    "Ans:   \n",
    "CLASS:-  \n",
    "Classes are user-defined data types that act as the blueprint for individual objects, attributes and methods.    \n",
    "Example:-\n"
   ]
  },
  {
   "cell_type": "code",
   "execution_count": 8,
   "id": "40a94638-b6a2-40bc-b504-e3374df05f7b",
   "metadata": {},
   "outputs": [
    {
     "name": "stdout",
     "output_type": "stream",
     "text": [
      "This is a class\n"
     ]
    }
   ],
   "source": [
    "class abc:\n",
    "    print('This is a class')\n"
   ]
  },
  {
   "cell_type": "markdown",
   "id": "d20f6d68-f351-4082-a0ae-d8951a7f7f12",
   "metadata": {},
   "source": [
    "OBJECT:-  \n",
    "The object is an entity that has a state and behavior associated with it. It may be any real-world object like a mouse, keyboard, chair, table, pen, etc. Integers, strings, floating-point numbers, even arrays, and dictionaries, are all objects.  \n",
    "Example:-"
   ]
  },
  {
   "cell_type": "code",
   "execution_count": 6,
   "id": "3582f3e1-d2e6-4399-8a6c-64ee7ab885f1",
   "metadata": {},
   "outputs": [],
   "source": [
    "a = abc() # here a is an object of class abc"
   ]
  },
  {
   "cell_type": "markdown",
   "id": "8a7d3943-aae0-4072-8e89-c56c5967a6ca",
   "metadata": {},
   "source": [
    "Q2. Name the four pillars of OOPs."
   ]
  },
  {
   "cell_type": "markdown",
   "id": "000e2229-96c7-478f-ab56-a709cf2ff241",
   "metadata": {},
   "source": [
    "Ans:-  \n",
    "1. Abstraction.\n",
    "2. Encapsulation.\n",
    "3. Inheritance.\n",
    "4. Polymorphism."
   ]
  },
  {
   "cell_type": "markdown",
   "id": "6a196671-ed0b-49d0-9a80-2629a02eb175",
   "metadata": {},
   "source": [
    "Q3. Explain why the __init__() function is used. Give a suitable example."
   ]
  },
  {
   "cell_type": "markdown",
   "id": "c6763f59-508c-4cab-8ad8-5ad0ae21c313",
   "metadata": {},
   "source": [
    "ANS: __init__() is known as a constructor. It is used to initialize the object’s state. The task of init()  is to initialize the data members of the class when an object of the class is created. Like methods, a constructor(__init__()) also contains a collection of statements that are executed at the time of Object creation. It is run as soon as an object of a class is instantiated. The method is useful to do any initialization you want to do with your object.  \n",
    "Example:"
   ]
  },
  {
   "cell_type": "code",
   "execution_count": 3,
   "id": "3a0611cd-53b6-4a9a-af0b-ba5465fde6d0",
   "metadata": {},
   "outputs": [
    {
     "name": "stdout",
     "output_type": "stream",
     "text": [
      "Smart Watch is :  Noisefit Halo\n"
     ]
    }
   ],
   "source": [
    "class smartwatch:\n",
    "    def __init__(self, name, company):\n",
    "        self.name = name\n",
    "        self.company = company\n",
    "    \n",
    "    def details(self):\n",
    "        print('Smart Watch is : ', self.company + \" \" + self.name)\n",
    "\n",
    "w1 = smartwatch('Halo', 'Noisefit')\n",
    "w1.details()"
   ]
  },
  {
   "cell_type": "markdown",
   "id": "a61d1739-ffc6-4889-a9d3-b8250c7b7272",
   "metadata": {},
   "source": [
    "Q4. Why self is used in OOPs?"
   ]
  },
  {
   "cell_type": "markdown",
   "id": "c52e17a5-1272-4f0d-adfb-453042b582ac",
   "metadata": {},
   "source": [
    "Ans: The self parameter is a reference to the current instance of the class, and is used to access variables that belongs to the class. It does not have to be named self , we can call it whatever you like, but it has to be the first parameter of any function in the class."
   ]
  },
  {
   "cell_type": "markdown",
   "id": "0c44198e-5c6f-4d6f-a6d0-e6e907160457",
   "metadata": {},
   "source": [
    "Q5. What is inheritance? Give an example for each type of inheritance."
   ]
  },
  {
   "cell_type": "markdown",
   "id": "624b5384-d29a-4b3f-acfc-6a7d76d50c2d",
   "metadata": {},
   "source": [
    "Ans: Inheritance is defined as the mechanism of inheriting the properties of the base class to the child class.   \n",
    "Types of Inheritence:"
   ]
  },
  {
   "cell_type": "markdown",
   "id": "b626795a-d423-410c-bdfe-524f58a0b030",
   "metadata": {},
   "source": [
    "1. Single Inheritance:   \n",
    "Single inheritance enables a derived class to inherit properties from a single parent class, thus enabling code reusability and the addition of new features to existing code.   \n",
    "Example:"
   ]
  },
  {
   "cell_type": "code",
   "execution_count": 5,
   "id": "c458574f-d8ad-46df-86df-843e30542783",
   "metadata": {},
   "outputs": [
    {
     "name": "stdout",
     "output_type": "stream",
     "text": [
      "This is in parent class\n",
      "This is in child class\n"
     ]
    }
   ],
   "source": [
    "# Single Inheritance\n",
    "class parent:\n",
    "    def func1(self):\n",
    "        print('This is in parent class')\n",
    "\n",
    "class child(parent):\n",
    "    def func2(self):\n",
    "        print('This is in child class')\n",
    "        \n",
    "obj = child()\n",
    "obj.func1()\n",
    "obj.func2()"
   ]
  },
  {
   "cell_type": "markdown",
   "id": "82f38da6-8e70-40c7-9d4a-5e9120bb52ce",
   "metadata": {},
   "source": [
    "2. Multiple Inheritance:  \n",
    "When a class can be derived from more than one base class this type of inheritance is called multiple inheritances. In multiple inheritances, all the features of the base classes are inherited into the derived class.   \n",
    "Example:"
   ]
  },
  {
   "cell_type": "code",
   "execution_count": 7,
   "id": "8fc90214-2b25-4014-ae40-7caefb918aef",
   "metadata": {},
   "outputs": [
    {
     "name": "stdout",
     "output_type": "stream",
     "text": [
      "This is in parent class1\n",
      "This is in parent class2\n",
      "This is in child class\n"
     ]
    }
   ],
   "source": [
    "# Multiple Inheritance\n",
    "class parent1:\n",
    "    def func1(self):\n",
    "        print('This is in parent class1')\n",
    "\n",
    "class parent2:\n",
    "    def func2(self):\n",
    "        print('This is in parent class2')\n",
    "\n",
    "class child(parent1, parent2):\n",
    "    def func(self):\n",
    "        print('This is in child class')\n",
    "        \n",
    "obj = child()\n",
    "obj.func1()\n",
    "obj.func2()\n",
    "obj.func()"
   ]
  },
  {
   "cell_type": "markdown",
   "id": "8703e125-63a0-487e-9d3d-b32ea1e7ec20",
   "metadata": {},
   "source": [
    "3. Multilevel Inheritance :   \n",
    "In multilevel inheritance, features of the base class and the derived class are further inherited into the new derived class.  \n",
    "Example:"
   ]
  },
  {
   "cell_type": "code",
   "execution_count": 11,
   "id": "b32457fc-be09-484d-97e8-341e85db702c",
   "metadata": {},
   "outputs": [
    {
     "name": "stdout",
     "output_type": "stream",
     "text": [
      "This is in grandfather class\n",
      "This is in father class\n",
      "This is in son class\n"
     ]
    }
   ],
   "source": [
    "# Multilevel Inheritance\n",
    "class grandfather:\n",
    "    def funcG(self):\n",
    "        print('This is in grandfather class')\n",
    "\n",
    "class father(grandfather):\n",
    "    def funcF(self):\n",
    "        print('This is in father class')\n",
    "\n",
    "class son(father):\n",
    "    def funcS(self):\n",
    "        print('This is in son class')\n",
    "        \n",
    "obj = son()\n",
    "obj.funcG()\n",
    "obj.funcF()\n",
    "obj.funcS()"
   ]
  },
  {
   "cell_type": "markdown",
   "id": "aecd5636-60c6-4e9f-8788-7df2c7fc98ba",
   "metadata": {},
   "source": [
    "4. Hierarchical Inheritance:     \n",
    "When more than one derived class are created from a single base this type of inheritance is called hierarchical inheritance.   \n",
    "Example:"
   ]
  },
  {
   "cell_type": "code",
   "execution_count": 14,
   "id": "dc411ae1-4bdb-4828-b9d2-5a526f736e2c",
   "metadata": {},
   "outputs": [
    {
     "name": "stdout",
     "output_type": "stream",
     "text": [
      "This is in parent class\n",
      "This is in child1 class\n",
      "This is in parent class\n",
      "This is in child2 class\n"
     ]
    }
   ],
   "source": [
    "# Hierarchical Inheritance\n",
    "class parent:\n",
    "    def func1(self):\n",
    "        print('This is in parent class')\n",
    "\n",
    "class child1(parent):\n",
    "    def func2(self):\n",
    "        print('This is in child1 class')\n",
    "\n",
    "class child2(parent):\n",
    "    def func3(self):\n",
    "        print('This is in child2 class')\n",
    "        \n",
    "obj1 = child1()\n",
    "obj2 = child2()\n",
    "obj1.func1()\n",
    "obj1.func2()\n",
    "obj2.func1()\n",
    "obj2.func3()"
   ]
  },
  {
   "cell_type": "code",
   "execution_count": null,
   "id": "db770eee-92ad-4e6f-b085-28973c1a7d1b",
   "metadata": {},
   "outputs": [],
   "source": []
  }
 ],
 "metadata": {
  "kernelspec": {
   "display_name": "Python 3 (ipykernel)",
   "language": "python",
   "name": "python3"
  },
  "language_info": {
   "codemirror_mode": {
    "name": "ipython",
    "version": 3
   },
   "file_extension": ".py",
   "mimetype": "text/x-python",
   "name": "python",
   "nbconvert_exporter": "python",
   "pygments_lexer": "ipython3",
   "version": "3.10.8"
  }
 },
 "nbformat": 4,
 "nbformat_minor": 5
}
