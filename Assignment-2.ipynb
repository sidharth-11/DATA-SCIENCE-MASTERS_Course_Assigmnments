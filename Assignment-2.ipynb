{
 "cells": [
  {
   "cell_type": "markdown",
   "id": "28943a66-c6c4-4dc0-a773-1ef333ce7ebe",
   "metadata": {},
   "source": [
    "##                                       Assignment - 2"
   ]
  },
  {
   "cell_type": "markdown",
   "id": "323e0a64-6cd7-4d95-8035-a04715545795",
   "metadata": {},
   "source": [
    "### Q1. How do you comment code in Python? What are the different types of comments?"
   ]
  },
  {
   "cell_type": "markdown",
   "id": "db6290b2-15d5-4554-9df6-19738df5a7dc",
   "metadata": {},
   "source": [
    "Ans: We usually comment code in python with help of '#' in front of the line. Anything that comes after # will be considered a comment in python. \n",
    "\n",
    "The different types of comments are:\n",
    "1. Single line Comment\n",
    "2. Multi line Comment\n",
    "3. Doc strings"
   ]
  },
  {
   "cell_type": "markdown",
   "id": "534f4a16-1e8d-4372-b3e7-63e09e1fa8e4",
   "metadata": {},
   "source": [
    "1. Single line comment"
   ]
  },
  {
   "cell_type": "code",
   "execution_count": 2,
   "id": "591f1c7f-68ef-4bb1-96dd-7a9a7f49577d",
   "metadata": {},
   "outputs": [
    {
     "name": "stdout",
     "output_type": "stream",
     "text": [
      "This is a single line comment\n"
     ]
    }
   ],
   "source": [
    "# This is a python single line comment\n",
    "print('This is a single line comment') "
   ]
  },
  {
   "cell_type": "markdown",
   "id": "b4d8b60c-f8a7-4db4-8b39-19a9d4c8730f",
   "metadata": {},
   "source": [
    "2. Multi line comment"
   ]
  },
  {
   "cell_type": "code",
   "execution_count": 11,
   "id": "7454c429-f111-4ca0-b2f7-57cb639c8eae",
   "metadata": {},
   "outputs": [
    {
     "name": "stdout",
     "output_type": "stream",
     "text": [
      "This is a multi line comment\n"
     ]
    }
   ],
   "source": [
    "print('This is a multi line comment') \n",
    "# This is an example of multiline comment\n",
    "# in python"
   ]
  },
  {
   "cell_type": "markdown",
   "id": "b32132e4-4170-4bda-8407-b56b27e69d28",
   "metadata": {},
   "source": [
    "3. Doc String"
   ]
  },
  {
   "cell_type": "code",
   "execution_count": 13,
   "id": "6f21e1e9-858b-4686-9070-b0f1ffd5c152",
   "metadata": {},
   "outputs": [
    {
     "name": "stdout",
     "output_type": "stream",
     "text": [
      "this is an example of doc-string\n"
     ]
    }
   ],
   "source": [
    "def intro():\n",
    "    '''hello, this \n",
    "    is an example of doc-string'''\n",
    "    print('this is an example of doc-string')\n",
    "\n",
    "intro()"
   ]
  },
  {
   "cell_type": "markdown",
   "id": "baaae242-08ce-49be-baf3-f7ec6a11956b",
   "metadata": {},
   "source": [
    "### Q2. What are variables in Python? How do you declare and assign values to variables?"
   ]
  },
  {
   "cell_type": "markdown",
   "id": "1dae0fee-ff3b-41b3-a133-653f4679ff30",
   "metadata": {},
   "source": [
    "Ans: A Python variable is a symbolic name that is a reference to an object. These containers that store values."
   ]
  },
  {
   "cell_type": "code",
   "execution_count": 14,
   "id": "a42aa543-8e3f-4c7a-b184-d1faa0fe75fa",
   "metadata": {},
   "outputs": [],
   "source": [
    "# Declaration & assigment of variable\n",
    "var = 'PWSkills'"
   ]
  },
  {
   "cell_type": "markdown",
   "id": "dcc1702d-bac6-4f35-bf04-e5498d577d04",
   "metadata": {
    "tags": []
   },
   "source": [
    "### Q3. How do you convert one data type to another in Python?"
   ]
  },
  {
   "cell_type": "markdown",
   "id": "3d782825-73ca-42c8-87c1-2d461f100f9b",
   "metadata": {},
   "source": [
    "Ans: We can use Type Casting which is the method to convert the Python variable datatype into a certain data type.\n"
   ]
  },
  {
   "cell_type": "code",
   "execution_count": 17,
   "id": "5c681206-f15f-4711-9ad5-4e92ca1eab20",
   "metadata": {},
   "outputs": [
    {
     "name": "stdout",
     "output_type": "stream",
     "text": [
      "<class 'int'>\n",
      "<class 'str'>\n"
     ]
    }
   ],
   "source": [
    "# type casting\n",
    "var1 = 1\n",
    "print(type(var1))\n",
    "var2 = str(var1)\n",
    "print(type(var2))"
   ]
  },
  {
   "cell_type": "markdown",
   "id": "a4139bb4-ccbf-4143-8727-948c0d6e892d",
   "metadata": {},
   "source": [
    "### Q4. How do you write and execute a Python script from the command line?"
   ]
  },
  {
   "cell_type": "markdown",
   "id": "1160f0d3-901a-4bff-8183-87c5d76b9a43",
   "metadata": {},
   "source": [
    "Ans: To start a Python from command line we open a command-line or terminal and then type in python and press enter. The standard prompt for the interactive mode is >>>, so as soon as we see these characters, we are in python environment. After this we can code/execute python script like we do in any other IDE.\n",
    "\n",
    "If we have any pythn script in our system we can go to that directory in commad prompt and type 'python scrip_name.py' and press enter. With this our script will run from command line."
   ]
  },
  {
   "cell_type": "markdown",
   "id": "f85f79b6-e992-46de-9086-1e8af37422c9",
   "metadata": {},
   "source": [
    "### Q5. Given a list my_list = [1, 2, 3, 4, 5], write the code to slice the list and obtain the sub-list [2, 3].\n"
   ]
  },
  {
   "cell_type": "code",
   "execution_count": 1,
   "id": "1e0ba60b-9966-4840-b162-921d47a9f7f9",
   "metadata": {},
   "outputs": [
    {
     "name": "stdout",
     "output_type": "stream",
     "text": [
      "[2, 3]\n"
     ]
    }
   ],
   "source": [
    "my_list = [1,2,3,4,5]\n",
    "sub_list = my_list[1:3]\n",
    "print(sub_list)"
   ]
  },
  {
   "cell_type": "markdown",
   "id": "2d791b82-4787-49cf-8e89-d94714d8e33c",
   "metadata": {},
   "source": [
    "### Q6. What is a complex number in mathematics, and how is it represented in Python?\n"
   ]
  },
  {
   "cell_type": "markdown",
   "id": "b9fda2a2-88f1-4a11-a15f-3452ee01a1f6",
   "metadata": {},
   "source": [
    "Ans: Complex numbers are the numbers that are expressed in the form of a+ib where, a,b are real numbers and 'i' is an imaginary number called “iota”. Ex: 3 + 5i.\n",
    "\n",
    "In python it is represented as complex data type. We usually denote the real part using i and the imaginary part with j. Ex : 3+5j"
   ]
  },
  {
   "cell_type": "code",
   "execution_count": 7,
   "id": "edb580c3-7805-4b14-aa71-06c885c58b53",
   "metadata": {},
   "outputs": [
    {
     "name": "stdout",
     "output_type": "stream",
     "text": [
      "<class 'complex'>\n"
     ]
    }
   ],
   "source": [
    "var4 = (3+5j)\n",
    "print(type(var4))"
   ]
  },
  {
   "cell_type": "markdown",
   "id": "a8524ad6-a80a-41ce-af66-858b940e9a5c",
   "metadata": {},
   "source": [
    "### Q7. What is the correct way to declare a variable named age and assign the value 25 to it?\n"
   ]
  },
  {
   "cell_type": "markdown",
   "id": "41d7ecbf-a3c8-425e-89d9-46486308486f",
   "metadata": {},
   "source": [
    "Ans: In python we declare the variable as below."
   ]
  },
  {
   "cell_type": "code",
   "execution_count": 8,
   "id": "0d637b6f-f2f6-4d7b-aae4-7d8d858c8636",
   "metadata": {},
   "outputs": [],
   "source": [
    "var5 = 25"
   ]
  },
  {
   "cell_type": "markdown",
   "id": "2ee1c566-943c-439f-978e-4748a4ed0354",
   "metadata": {
    "tags": []
   },
   "source": [
    "### Q8. Declare a variable named price and assign the value 9.99 to it. What data type does this variable belong to?\n"
   ]
  },
  {
   "cell_type": "code",
   "execution_count": 9,
   "id": "d094abb5-5446-4b01-ad99-efac19eb4c47",
   "metadata": {},
   "outputs": [
    {
     "name": "stdout",
     "output_type": "stream",
     "text": [
      "<class 'float'>\n"
     ]
    }
   ],
   "source": [
    "price = 9.99\n",
    "print(type(price))"
   ]
  },
  {
   "cell_type": "markdown",
   "id": "b48d6610-82cc-4408-978c-de864dedd1a4",
   "metadata": {},
   "source": [
    "It belongs to float data type."
   ]
  },
  {
   "cell_type": "markdown",
   "id": "e3558ad0-d7ab-40bb-be8c-c167677fcbcf",
   "metadata": {},
   "source": [
    "### Q9. Create a variable named name and assign your full name to it as a string. How would you print the value of this variable?\n"
   ]
  },
  {
   "cell_type": "code",
   "execution_count": 10,
   "id": "3e529083-1a7b-4aaa-9787-0d099fdc9de6",
   "metadata": {},
   "outputs": [
    {
     "name": "stdout",
     "output_type": "stream",
     "text": [
      "Sidharth Das\n"
     ]
    }
   ],
   "source": [
    "name = 'Sidharth Das'\n",
    "print(name)"
   ]
  },
  {
   "cell_type": "markdown",
   "id": "f32e5cd0-db6d-4652-8e10-c01d7b9dee51",
   "metadata": {},
   "source": [
    "### Q10. Given the string \"Hello, World!\", extract the substring \"World\".\n"
   ]
  },
  {
   "cell_type": "code",
   "execution_count": 15,
   "id": "f06ba26b-4945-497b-a462-f4349790ee4e",
   "metadata": {},
   "outputs": [
    {
     "name": "stdout",
     "output_type": "stream",
     "text": [
      "World\n"
     ]
    }
   ],
   "source": [
    "st1 = \"Hello, World!\"\n",
    "print(st1[7:-1])"
   ]
  },
  {
   "cell_type": "markdown",
   "id": "434ec339-257d-4ec5-8adb-88aba4149ada",
   "metadata": {},
   "source": [
    "### Q11. Create a variable named \"is_student\" and assign it a boolean value indicating whether you are currently a student or not."
   ]
  },
  {
   "cell_type": "code",
   "execution_count": 16,
   "id": "fa40e9f0-b581-4730-b20f-0bd3c2f540ba",
   "metadata": {},
   "outputs": [],
   "source": [
    "is_student = False"
   ]
  },
  {
   "cell_type": "code",
   "execution_count": null,
   "id": "7d279048-0975-4ffd-8d67-f193618f9ea9",
   "metadata": {},
   "outputs": [],
   "source": []
  }
 ],
 "metadata": {
  "kernelspec": {
   "display_name": "Python 3 (ipykernel)",
   "language": "python",
   "name": "python3"
  },
  "language_info": {
   "codemirror_mode": {
    "name": "ipython",
    "version": 3
   },
   "file_extension": ".py",
   "mimetype": "text/x-python",
   "name": "python",
   "nbconvert_exporter": "python",
   "pygments_lexer": "ipython3",
   "version": "3.10.8"
  }
 },
 "nbformat": 4,
 "nbformat_minor": 5
}
