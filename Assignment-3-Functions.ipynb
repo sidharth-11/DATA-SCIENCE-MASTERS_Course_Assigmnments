{
 "cells": [
  {
   "cell_type": "markdown",
   "id": "51857c80-e364-4d0b-90ef-5fc82b53280c",
   "metadata": {},
   "source": [
    "## Assignment - 3 (Functions)"
   ]
  },
  {
   "cell_type": "markdown",
   "id": "127db0d2-b700-4c80-8169-9a8f3aaea842",
   "metadata": {},
   "source": [
    "### Q1. Which keyword is used to create a function? Create a function to return a list of odd numbers in the range of 1 to 25."
   ]
  },
  {
   "cell_type": "markdown",
   "id": "50d03237-d73e-483a-a851-b470bc141f7e",
   "metadata": {},
   "source": [
    "Ans: We use def keyword to create a function."
   ]
  },
  {
   "cell_type": "code",
   "execution_count": 5,
   "id": "404f10fd-91a9-4aa0-b5f1-4d6aa35a514d",
   "metadata": {},
   "outputs": [
    {
     "data": {
      "text/plain": [
       "[1, 3, 5, 7, 9, 11, 13, 15, 17, 19, 21, 23, 25]"
      ]
     },
     "execution_count": 5,
     "metadata": {},
     "output_type": "execute_result"
    }
   ],
   "source": [
    "def odd_num():\n",
    "    l = []\n",
    "    for i in range(1,26):\n",
    "        if i % 2 != 0:\n",
    "            l.append(i)\n",
    "    return l\n",
    "\n",
    "odd_num()       "
   ]
  },
  {
   "cell_type": "markdown",
   "id": "5b43611e-1cec-49e9-8a28-7d614f6653c4",
   "metadata": {},
   "source": [
    "### Q2. Why *args and **kwargs is used in some functions? Create a function each for *args and **kwargs to demonstrate their use."
   ]
  },
  {
   "cell_type": "markdown",
   "id": "56f31e3b-d73e-4eba-86dd-ed072a28fed8",
   "metadata": {},
   "source": [
    "Ans:   \n",
    "*args:-    \n",
    "The *args in function definition in Python is used to pass a variable number of arguments to a function. It is used to pass a variable-length argument list. It allows us to take in more arguments than the number of arguments that are previously defined.   \n",
    "Example:-"
   ]
  },
  {
   "cell_type": "code",
   "execution_count": 1,
   "id": "483918e8-f179-4a92-9fa2-743963ea9b96",
   "metadata": {},
   "outputs": [
    {
     "name": "stdout",
     "output_type": "stream",
     "text": [
      "First element : This\n",
      "Next element through *args : is\n",
      "Next element through *args : an\n",
      "Next element through *args : example\n",
      "Next element through *args : of\n",
      "Next element through *args : *args\n"
     ]
    }
   ],
   "source": [
    "def argFun(arg1, *args):\n",
    "    print(\"First element :\", arg1)\n",
    "    for i in args:\n",
    "        print(\"Next element through *args :\", i)\n",
    " \n",
    " \n",
    "argFun('This','is','an','example','of','*args')"
   ]
  },
  {
   "cell_type": "markdown",
   "id": "9c2890a0-678a-4876-ae32-8da59e8f91fe",
   "metadata": {},
   "source": [
    "**kwargs:-   \n",
    "The **kwargs in function definitions in Python is used to pass a keyworded, variable-length argument list. It is a dictionary that maps each keyword to the value that we pass alongside it.   \n",
    "Example:-\n"
   ]
  },
  {
   "cell_type": "code",
   "execution_count": 4,
   "id": "0cad2379-6153-4f4d-b8c2-45d9236a34f0",
   "metadata": {},
   "outputs": [
    {
     "name": "stdout",
     "output_type": "stream",
     "text": [
      "First element : This\n",
      "word1  ==  is\n",
      "word2  ==  an\n",
      "word3  ==  example\n",
      "word4  ==  of\n",
      "word5  ==  **kwargs.\n"
     ]
    }
   ],
   "source": [
    "def kwargFunc(kwarg1, **kwargs):\n",
    "    print('First element :', kwarg1)\n",
    "    for key, value in kwargs.items():\n",
    "        print(key,' == ', value)\n",
    " \n",
    "\n",
    "kwargFunc(\"This\", word1='is', word2='an', word3='example', word4='of', word5='**kwargs.')"
   ]
  },
  {
   "cell_type": "markdown",
   "id": "256ceba2-c610-4443-8991-4f083f62d5ec",
   "metadata": {},
   "source": [
    "### Q3. What is an iterator in python? Name the method used to initialise the iterator object and the method used for iteration. Use these methods to print the first five elements of the given list [2, 4, 6, 8, 10, 12, 14, 16, 18, 20]."
   ]
  },
  {
   "cell_type": "markdown",
   "id": "8dc9a2a7-8e66-4c5b-9ea9-10c8eb016a03",
   "metadata": {},
   "source": [
    "Ans: An iterator is an object that is used to iterate or loop through the elements or items in the collections such as List, Set, tuples etc.  \n",
    "\n",
    "We use __iter__() method to initialise the iter object and __next__() method for iteration.\n"
   ]
  },
  {
   "cell_type": "code",
   "execution_count": 3,
   "id": "660593f0-fa14-4bd8-9beb-3ced9c0a07ac",
   "metadata": {},
   "outputs": [
    {
     "name": "stdout",
     "output_type": "stream",
     "text": [
      "2\n",
      "4\n",
      "6\n",
      "8\n",
      "10\n"
     ]
    }
   ],
   "source": [
    "my_list = [2, 4, 6, 8, 10, 12, 14, 16, 18, 20] \n",
    "\n",
    "my_iterator = iter(my_list)\n",
    "\n",
    "for i in range(0,5):\n",
    "    print(next(my_iterator))\n"
   ]
  },
  {
   "cell_type": "markdown",
   "id": "abffb879-c83e-4007-8bf5-87ccedc75b7f",
   "metadata": {},
   "source": [
    "### Q4. What is a generator function in python? Why yield keyword is used? Give an example of a generator function."
   ]
  },
  {
   "cell_type": "markdown",
   "id": "0463297d-b9d0-481c-b8dd-30a9cc7a928a",
   "metadata": {},
   "source": [
    "Ans: A generator is a function that returns an iterator that produces a sequence of values when iterated over.  \n",
    "\n",
    "Yield can produce a sequence of values instead of returning a single value from a function. Yield is used when we want to iterate over a sequence, but don’t want to store the entire sequence in memory. It is mostly used in an genrator function.\n"
   ]
  },
  {
   "cell_type": "code",
   "execution_count": 13,
   "id": "52bc97c2-4107-4c2f-8162-9a10c717b237",
   "metadata": {},
   "outputs": [
    {
     "name": "stdout",
     "output_type": "stream",
     "text": [
      "0\n",
      "1\n",
      "2\n",
      "3\n",
      "4\n",
      "5\n",
      "6\n",
      "7\n",
      "8\n",
      "9\n",
      "10\n"
     ]
    }
   ],
   "source": [
    "def my_geneator(x):\n",
    "    var = 0\n",
    "    while var <= x:\n",
    "        yield var\n",
    "        var = var + 1\n",
    "\n",
    "for var in my_geneator(10):\n",
    "    print(var)\n",
    "    "
   ]
  },
  {
   "cell_type": "markdown",
   "id": "ed774371-40c6-47f3-b25b-44d551ef2e79",
   "metadata": {},
   "source": [
    "### Q5.Create a generator function for prime numbers less than 1000. Use the next() method to print the first 20 prime numbers."
   ]
  },
  {
   "cell_type": "code",
   "execution_count": 1,
   "id": "83efdc28-ff97-46be-bb4a-6bdc8169c967",
   "metadata": {},
   "outputs": [
    {
     "name": "stdout",
     "output_type": "stream",
     "text": [
      "count :  1\n",
      "prime num value :  2\n",
      "count :  2\n",
      "prime num value :  3\n",
      "count :  3\n",
      "prime num value :  5\n",
      "count :  4\n",
      "prime num value :  7\n",
      "count :  5\n",
      "prime num value :  11\n",
      "count :  6\n",
      "prime num value :  13\n",
      "count :  7\n",
      "prime num value :  17\n",
      "count :  8\n",
      "prime num value :  19\n",
      "count :  9\n",
      "prime num value :  23\n",
      "count :  10\n",
      "prime num value :  29\n",
      "count :  11\n",
      "prime num value :  31\n",
      "count :  12\n",
      "prime num value :  37\n",
      "count :  13\n",
      "prime num value :  41\n",
      "count :  14\n",
      "prime num value :  43\n",
      "count :  15\n",
      "prime num value :  47\n",
      "count :  16\n",
      "prime num value :  53\n",
      "count :  17\n",
      "prime num value :  59\n",
      "count :  18\n",
      "prime num value :  61\n",
      "count :  19\n",
      "prime num value :  67\n",
      "count :  20\n",
      "prime num value :  71\n"
     ]
    }
   ],
   "source": [
    "def isprime(n):\n",
    "    for x in range(2,n):\n",
    "        if n%x == 0:\n",
    "            return False\n",
    "    return True\n",
    "\n",
    "def generator(n):\n",
    "    prime = 2\n",
    "    yield prime\n",
    "    prime = prime + 1\n",
    "    while prime < n:\n",
    "        if isprime(prime):\n",
    "            yield prime\n",
    "            prime = prime + 1\n",
    "        else:\n",
    "            prime = prime + 1\n",
    "\n",
    "prime_num = generator(1000)\n",
    "count = 20\n",
    "for i in range(1,count + 1):\n",
    "    print('count : ', i)\n",
    "    print('prime num value : ',  next(prime_num))"
   ]
  },
  {
   "cell_type": "code",
   "execution_count": null,
   "id": "59881142-dc72-4f39-83e5-f0ef29b0daad",
   "metadata": {},
   "outputs": [],
   "source": []
  }
 ],
 "metadata": {
  "kernelspec": {
   "display_name": "Python 3 (ipykernel)",
   "language": "python",
   "name": "python3"
  },
  "language_info": {
   "codemirror_mode": {
    "name": "ipython",
    "version": 3
   },
   "file_extension": ".py",
   "mimetype": "text/x-python",
   "name": "python",
   "nbconvert_exporter": "python",
   "pygments_lexer": "ipython3",
   "version": "3.10.8"
  }
 },
 "nbformat": 4,
 "nbformat_minor": 5
}
