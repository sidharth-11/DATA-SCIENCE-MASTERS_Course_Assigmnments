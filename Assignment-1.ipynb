{
 "cells": [
  {
   "cell_type": "markdown",
   "id": "2dbb4fc1-15d8-4d70-9bca-a0ac5f97e00b",
   "metadata": {},
   "source": [
    "# Assignment - 1"
   ]
  },
  {
   "cell_type": "markdown",
   "id": "4832452c-3af0-4604-85da-eb011ab7f82a",
   "metadata": {},
   "source": [
    "Q1. Create one variable containing following type of data:   \n",
    "(i) string   \n",
    "(ii) list  \n",
    "(iii) float  \n",
    "(iv) tuple  "
   ]
  },
  {
   "cell_type": "markdown",
   "id": "b906b566-7104-4671-a34a-f3bb5c7853a2",
   "metadata": {},
   "source": [
    "Ans:  \n",
    "(i) var_1 = 'sidharth'  \n",
    "(ii) var_2 = [1,2,'ant','bat']   \n",
    "(iii) var_3 = 3.14   \n",
    "(iv) var_4 = (1,2,3)  "
   ]
  },
  {
   "cell_type": "markdown",
   "id": "493ce24e-ac25-4194-a305-2de2010c1d66",
   "metadata": {},
   "source": [
    "Q2. Given are some following variables containing data:  \n",
    "(i) var1 = ‘ ‘  \n",
    "(ii) var2 = ‘[ DS , ML , Python]’  \n",
    "(iii) var3 = [ ‘DS’ , ’ML’ , ‘Python’ ]  \n",
    "(iv) var4 = 1.   \n",
    "\n",
    "What will be the data type of the above given variable."
   ]
  },
  {
   "cell_type": "markdown",
   "id": "f26cecbb-c141-4e50-9668-b2e50345eda4",
   "metadata": {},
   "source": [
    "Ans:  \n",
    "(i) string  \n",
    "(ii) string  \n",
    "(iii) list  \n",
    "(iv) integer  \n"
   ]
  },
  {
   "cell_type": "markdown",
   "id": "6f9100b6-d6dd-4cd4-b7d0-724d41687cf9",
   "metadata": {},
   "source": [
    "Q3. Explain the use of the following operators using an example:  \n",
    "(i) /  \n",
    "(ii) %  \n",
    "(iii) //  \n",
    "(iv) **  "
   ]
  },
  {
   "cell_type": "markdown",
   "id": "21d07a8c-1767-409e-8286-77eb5ac673b4",
   "metadata": {},
   "source": [
    "Ans:  \n",
    "\n"
   ]
  },
  {
   "cell_type": "code",
   "execution_count": 17,
   "id": "a93c1abe-c64b-4d0c-bc3b-fe0d4c372089",
   "metadata": {},
   "outputs": [
    {
     "name": "stdout",
     "output_type": "stream",
     "text": [
      "(i) / - float arithmetic division operator\n",
      "5/2 -->  2.5\n",
      "(ii) % - Module operator\n",
      "5%2 -->  1\n",
      "(iii) // - Floor division operator\n",
      "5//2 -->  2\n",
      "(iv) ** - Power operator\n",
      "5**2 --> 25\n"
     ]
    }
   ],
   "source": [
    "print('(i) / - float arithmetic division operator')\n",
    "print('5/2 --> ',5/2)\n",
    "print('(ii) % - Module operator')\n",
    "print('5%2 --> ',5%2)\n",
    "print('(iii) // - Floor division operator')\n",
    "print('5//2 --> ',5//2)\n",
    "print('(iv) ** - Power operator')\n",
    "print('5**2 -->',5**2)"
   ]
  },
  {
   "cell_type": "markdown",
   "id": "852a3d24-3739-4f86-846e-aa8e636b7609",
   "metadata": {},
   "source": [
    "Q4. Create a list of length 10 of your choice containing multiple types of data. Using for loop print the element and its data type."
   ]
  },
  {
   "cell_type": "code",
   "execution_count": 19,
   "id": "b6e70dbe-d634-42e3-b3dc-50d51839c3bd",
   "metadata": {},
   "outputs": [
    {
     "name": "stdout",
     "output_type": "stream",
     "text": [
      "1 Element:  1\n",
      "Data type:  <class 'int'>\n",
      "2 Element:  2.55\n",
      "Data type:  <class 'float'>\n",
      "3 Element:  True\n",
      "Data type:  <class 'bool'>\n",
      "4 Element:  [2, 5, 'bat']\n",
      "Data type:  <class 'list'>\n",
      "5 Element:  ball\n",
      "Data type:  <class 'str'>\n",
      "6 Element:  (6, 7)\n",
      "Data type:  <class 'tuple'>\n",
      "7 Element:  (5+3j)\n",
      "Data type:  <class 'complex'>\n",
      "8 Element:  False\n",
      "Data type:  <class 'bool'>\n",
      "9 Element:  11\n",
      "Data type:  <class 'int'>\n",
      "10 Element:  cat\n",
      "Data type:  <class 'str'>\n"
     ]
    }
   ],
   "source": [
    "list_1 = [1,2.55,True,[2,5,'bat'],'ball',(6,7),5+3j,False,11,'cat']\n",
    "count = 0\n",
    "for element in list_1:\n",
    "    count = count + 1\n",
    "    print(count,'Element: ',element)\n",
    "    print('Data type: ',type(element))\n",
    "    "
   ]
  },
  {
   "cell_type": "markdown",
   "id": "17269610-3d5c-469b-9cc2-773f223527aa",
   "metadata": {},
   "source": [
    "Q5. Using a while loop, verify if the number A is purely divisible by number B and if so then how many\n",
    "times it can be divisible."
   ]
  },
  {
   "cell_type": "code",
   "execution_count": 34,
   "id": "be6dcd07-6556-4f34-b3c5-390ab7d0517f",
   "metadata": {},
   "outputs": [
    {
     "name": "stdout",
     "output_type": "stream",
     "text": [
      "3\n"
     ]
    }
   ],
   "source": [
    "num_A = 125\n",
    "num_B = 5\n",
    "count = 0\n",
    "\n",
    "while num_A % num_B == 0:\n",
    "    while num_A >= num_B:\n",
    "        quotient = num_A // num_B\n",
    "        count = count + 1\n",
    "        num_A = quotient\n",
    "        \n",
    "print(count)"
   ]
  },
  {
   "cell_type": "markdown",
   "id": "08144077-47cc-4be7-92f2-7e0f50c0b72c",
   "metadata": {},
   "source": [
    "Q6. Create a list containing 25 int type data. Using for loop and if-else condition print if the element is divisible by 3 or not."
   ]
  },
  {
   "cell_type": "code",
   "execution_count": 39,
   "id": "0f9c31f3-e4ab-4a39-b460-d0fca365dc5b",
   "metadata": {},
   "outputs": [
    {
     "name": "stdout",
     "output_type": "stream",
     "text": [
      "1  is not divisible by 3\n",
      "2  is not divisible by 3\n",
      "3  is divisible by 3\n",
      "4  is not divisible by 3\n",
      "5  is not divisible by 3\n",
      "6  is divisible by 3\n",
      "7  is not divisible by 3\n",
      "8  is not divisible by 3\n",
      "9  is divisible by 3\n",
      "10  is not divisible by 3\n",
      "11  is not divisible by 3\n",
      "12  is divisible by 3\n",
      "13  is not divisible by 3\n",
      "14  is not divisible by 3\n",
      "15  is divisible by 3\n",
      "16  is not divisible by 3\n",
      "17  is not divisible by 3\n",
      "18  is divisible by 3\n",
      "19  is not divisible by 3\n",
      "20  is not divisible by 3\n",
      "21  is divisible by 3\n",
      "22  is not divisible by 3\n",
      "23  is not divisible by 3\n",
      "24  is divisible by 3\n",
      "25  is not divisible by 3\n"
     ]
    }
   ],
   "source": [
    "list_2 = [1,2,3,4,5,6,7,8,9,10,11,12,13,14,15,16,17,18,19,20,21,22,23,24,25]\n",
    "\n",
    "for data in list_2:\n",
    "    if data % 3 == 0:\n",
    "        print(data,' is divisible by 3')\n",
    "    else:\n",
    "        print(data,' is not divisible by 3')"
   ]
  },
  {
   "cell_type": "markdown",
   "id": "54b148f8-4be0-4f44-b534-1d745f70e077",
   "metadata": {},
   "source": [
    "Q7. What do you understand about mutable and immutable data types? Give examples for both showing\n",
    "this property."
   ]
  },
  {
   "cell_type": "markdown",
   "id": "64949e66-7e33-48fd-8d21-c814dd256408",
   "metadata": {},
   "source": [
    "Ans:  \n",
    "Mutable data type : The data type which allow it's values to be modified after it is created is known as mutable data type. Example: list   \n",
    "Immutable data type : The data type which does not allow it's values to be modified after it has been creaated is known as immutable data type. Example: tuple"
   ]
  },
  {
   "cell_type": "code",
   "execution_count": 41,
   "id": "e36d38c4-fb69-4122-963e-52911c01916f",
   "metadata": {},
   "outputs": [
    {
     "name": "stdout",
     "output_type": "stream",
     "text": [
      "[1, 2, 3, 4]\n"
     ]
    }
   ],
   "source": [
    "# Mutable data type example\n",
    "lst = [1,2,3]\n",
    "lst.append(4)\n",
    "print(lst)"
   ]
  },
  {
   "cell_type": "code",
   "execution_count": 47,
   "id": "98b93e07-9084-40ed-a687-2b100babe508",
   "metadata": {},
   "outputs": [
    {
     "ename": "TypeError",
     "evalue": "'tuple' object does not support item assignment",
     "output_type": "error",
     "traceback": [
      "\u001b[0;31m---------------------------------------------------------------------------\u001b[0m",
      "\u001b[0;31mTypeError\u001b[0m                                 Traceback (most recent call last)",
      "Cell \u001b[0;32mIn[47], line 3\u001b[0m\n\u001b[1;32m      1\u001b[0m \u001b[38;5;66;03m# Immutable data type example\u001b[39;00m\n\u001b[1;32m      2\u001b[0m s \u001b[38;5;241m=\u001b[39m (\u001b[38;5;241m1\u001b[39m,\u001b[38;5;241m2\u001b[39m,\u001b[38;5;241m3\u001b[39m)\n\u001b[0;32m----> 3\u001b[0m \u001b[43ms\u001b[49m\u001b[43m[\u001b[49m\u001b[38;5;241;43m2\u001b[39;49m\u001b[43m]\u001b[49m \u001b[38;5;241m=\u001b[39m \u001b[38;5;241m4\u001b[39m\n",
      "\u001b[0;31mTypeError\u001b[0m: 'tuple' object does not support item assignment"
     ]
    }
   ],
   "source": [
    "# Immutable data type example\n",
    "s = (1,2,3)\n",
    "s[2] = 4"
   ]
  },
  {
   "cell_type": "code",
   "execution_count": null,
   "id": "da8c8d15-b9fd-4d99-950b-de7e664c57b0",
   "metadata": {},
   "outputs": [],
   "source": []
  }
 ],
 "metadata": {
  "kernelspec": {
   "display_name": "Python 3 (ipykernel)",
   "language": "python",
   "name": "python3"
  },
  "language_info": {
   "codemirror_mode": {
    "name": "ipython",
    "version": 3
   },
   "file_extension": ".py",
   "mimetype": "text/x-python",
   "name": "python",
   "nbconvert_exporter": "python",
   "pygments_lexer": "ipython3",
   "version": "3.10.8"
  }
 },
 "nbformat": 4,
 "nbformat_minor": 5
}
