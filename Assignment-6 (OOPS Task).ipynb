{
 "cells": [
  {
   "cell_type": "markdown",
   "id": "b1ee68da-a743-4f38-88e1-07f870e6b151",
   "metadata": {},
   "source": [
    "## ASSIGNMENT - 6 (OOPS TASK)"
   ]
  },
  {
   "cell_type": "markdown",
   "id": "09c26766-1860-40f7-9fa6-1d5f1e0ca029",
   "metadata": {},
   "source": [
    "Q1. Create a vehicle class with an init method having instance variables as name_of_vehicle, max_speed\n",
    "and average_of_vehicle."
   ]
  },
  {
   "cell_type": "code",
   "execution_count": 1,
   "id": "2d573bac-e9aa-4269-ac16-5bc37a0b60f1",
   "metadata": {},
   "outputs": [],
   "source": [
    "class vehicle:\n",
    "    def __init__(self,name_of_vehicle,max_speed,average_of_vehicle):\n",
    "        self.name_of_vehicle = name_of_vehicle\n",
    "        self.max_speed = max_speed\n",
    "        self.average_of_vehicle = average_of_vehicle\n",
    "        "
   ]
  },
  {
   "cell_type": "markdown",
   "id": "6542eb7d-f42e-40ff-9c04-8993d8caade6",
   "metadata": {},
   "source": [
    "Q2. Create a child class car from the vehicle class created in Que 1, which will inherit the vehicle class.\n",
    "Create a method named seating_capacity which takes capacity as an argument and returns the name of\n",
    "the vehicle and its seating capacity."
   ]
  },
  {
   "cell_type": "code",
   "execution_count": 13,
   "id": "15ab36d4-f61e-4532-a5f3-0fca2cdf5d5d",
   "metadata": {},
   "outputs": [
    {
     "data": {
      "text/plain": [
       "('Honda', 5)"
      ]
     },
     "execution_count": 13,
     "metadata": {},
     "output_type": "execute_result"
    }
   ],
   "source": [
    "class car(vehicle):\n",
    "    def __init__(self,capacity,name_of_vehicle,max_speed,average_of_vehicle):\n",
    "        self.capacity = capacity\n",
    "        vehicle.__init__(self,name_of_vehicle,max_speed,average_of_vehicle)\n",
    "    \n",
    "    def seating_capacity(self):\n",
    "        return self.name_of_vehicle, self.capacity\n",
    "\n",
    "car1 = car(5,'Honda',230,125)\n",
    "car1.seating_capacity()"
   ]
  },
  {
   "cell_type": "markdown",
   "id": "42b9ca87-ff0c-46b6-a613-1f810273b330",
   "metadata": {},
   "source": [
    "Q3. What is multiple inheritance? Write a python code to demonstrate multiple inheritance."
   ]
  },
  {
   "cell_type": "markdown",
   "id": "32a2dc1a-bb59-4947-af47-f13047b62c64",
   "metadata": {},
   "source": [
    "Ans: When a class can be derived from more than one base class this type of inheritance is called multiple inheritances. In multiple inheritances, all the features of the base classes are inherited into the derived class.   \n",
    "Example:"
   ]
  },
  {
   "cell_type": "code",
   "execution_count": 14,
   "id": "16f1485c-13bb-418c-a84f-7ec7639710ff",
   "metadata": {},
   "outputs": [
    {
     "name": "stdout",
     "output_type": "stream",
     "text": [
      "This is in parent class1\n",
      "This is in parent class2\n",
      "This is in child class\n"
     ]
    }
   ],
   "source": [
    "# Multiple Inheritance\n",
    "class parent1:\n",
    "    def func1(self):\n",
    "        print('This is in parent class1')\n",
    "\n",
    "class parent2:\n",
    "    def func2(self):\n",
    "        print('This is in parent class2')\n",
    "\n",
    "class child(parent1, parent2):\n",
    "    def func(self):\n",
    "        print('This is in child class')\n",
    "        \n",
    "obj = child()\n",
    "obj.func1()\n",
    "obj.func2()\n",
    "obj.func()"
   ]
  },
  {
   "cell_type": "markdown",
   "id": "ab27ac5a-108d-4076-8faa-a808da31caa6",
   "metadata": {},
   "source": [
    "Q4. What are getter and setter in python? Create a class and create a getter and a setter method in this\n",
    "class."
   ]
  },
  {
   "cell_type": "markdown",
   "id": "ffe2b86a-137a-4e82-9a73-e791427b158e",
   "metadata": {},
   "source": [
    "Ans: Getters and setters are used to protect our data, particularly when working with classes.  \n",
    "Getter: A method that allows us to access an attribute in a given class.  \n",
    "Setter: A method that allows us to set or mutate the value of an attribute in a class.\n",
    "    "
   ]
  },
  {
   "cell_type": "code",
   "execution_count": 24,
   "id": "531ddf58-621d-4d8b-8767-b830477294d4",
   "metadata": {},
   "outputs": [
    {
     "name": "stdout",
     "output_type": "stream",
     "text": [
      "SUV\n"
     ]
    },
    {
     "data": {
      "text/plain": [
       "'Sedan'"
      ]
     },
     "execution_count": 24,
     "metadata": {},
     "output_type": "execute_result"
    }
   ],
   "source": [
    "class car_type:\n",
    "    def __init__(self,c_type):\n",
    "        self.__c_type = c_type\n",
    "        \n",
    "    @property \n",
    "    def access_c_type(self):\n",
    "        return self.__c_type\n",
    "    \n",
    "    @access_c_type.setter\n",
    "    def c_type_set(self, typ):\n",
    "        self.__c_type = typ\n",
    "        \n",
    "car2 = car_type('SUV')\n",
    "print(car2.access_c_type) #getter\n",
    "car2.c_type_set = 'Sedan'   #setter\n",
    "car2.access_c_type"
   ]
  },
  {
   "cell_type": "markdown",
   "id": "132016cc-01d0-432b-b217-d6c8cd82b095",
   "metadata": {},
   "source": [
    "Q5.What is method overriding in python? Write a python code to demonstrate method overriding."
   ]
  },
  {
   "cell_type": "markdown",
   "id": "c2ef5831-8595-4523-9ff6-706b7b0d474f",
   "metadata": {},
   "source": [
    "Ans: Method overriding is an ability of any object-oriented programming language that allows a subclass or child class to provide a specific implementation of a method that is already provided by one of its super-classes or parent classes.    \n",
    "Example:"
   ]
  },
  {
   "cell_type": "code",
   "execution_count": 8,
   "id": "afa9fa45-72be-43f9-956d-6ce63a0e8782",
   "metadata": {},
   "outputs": [
    {
     "name": "stdout",
     "output_type": "stream",
     "text": [
      "This is child class\n"
     ]
    }
   ],
   "source": [
    "class parent:\n",
    "    def __init__(self):\n",
    "        self.body = 'Parent class'\n",
    "        \n",
    "    def func(self):\n",
    "        print('This is',self.body) \n",
    "\n",
    "class child(parent):\n",
    "     def __init__(self):\n",
    "        self.body = 'child class'\n",
    "        \n",
    "     def func(self):\n",
    "        print('This is',self.body) \n",
    "\n",
    "chld = child()\n",
    "chld.func()\n",
    "    "
   ]
  },
  {
   "cell_type": "code",
   "execution_count": null,
   "id": "444613b7-3799-4f1b-ac95-674b00664a66",
   "metadata": {},
   "outputs": [],
   "source": []
  }
 ],
 "metadata": {
  "kernelspec": {
   "display_name": "Python 3 (ipykernel)",
   "language": "python",
   "name": "python3"
  },
  "language_info": {
   "codemirror_mode": {
    "name": "ipython",
    "version": 3
   },
   "file_extension": ".py",
   "mimetype": "text/x-python",
   "name": "python",
   "nbconvert_exporter": "python",
   "pygments_lexer": "ipython3",
   "version": "3.10.8"
  }
 },
 "nbformat": 4,
 "nbformat_minor": 5
}
